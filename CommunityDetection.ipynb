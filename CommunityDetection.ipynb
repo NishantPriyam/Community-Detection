{
 "cells": [
  {
   "cell_type": "markdown",
   "metadata": {},
   "source": [
    "# CIS600 - Social Media & Data Mining\n",
    "###  \n",
    "<img src=\"https://www.syracuse.edu/wp-content/themes/g6-carbon/img/syracuse-university-seal.svg?ver=6.3.9\" style=\"width: 200px;\"/>\n",
    "\n",
    "### February 6, 2018"
   ]
  },
  {
   "cell_type": "markdown",
   "metadata": {},
   "source": [
    "## Community Detection"
   ]
  },
  {
   "cell_type": "code",
   "execution_count": 1,
   "metadata": {
    "collapsed": true
   },
   "outputs": [],
   "source": [
    "import numpy as np\n",
    "import networkx as nx\n",
    "# Note changes; we need tools for manipulating labels\n",
    "from bokeh.io import show, output_notebook\n",
    "from bokeh.plotting import figure\n",
    "from bokeh.models import ColumnDataSource\n",
    "from bokeh.models.annotations import LabelSet\n",
    "from bokeh.models.graphs import from_networkx"
   ]
  },
  {
   "cell_type": "code",
   "execution_count": 2,
   "metadata": {
    "collapsed": true
   },
   "outputs": [],
   "source": [
    "# Let's define our favorite graph\n",
    "A = np.array([[0,1,1,1,0,0,0,0,0],[1,0,1,0,0,0,0,0,0],[1,1,0,1,0,0,0,0,0],[1,0,1,0,1,1,0,0,0],[0,0,0,1,0,1,1,1,0],\n",
    "             [0,0,0,1,1,0,1,1,0],[0,0,0,0,1,1,0,1,1],[0,0,0,0,1,1,1,0,0],[0,0,0,0,0,0,1,0,0]])\n",
    "H = nx.from_numpy_matrix(A)"
   ]
  },
  {
   "cell_type": "markdown",
   "metadata": {},
   "source": [
    "### Cliques"
   ]
  },
  {
   "cell_type": "markdown",
   "metadata": {},
   "source": [
    "#### We can identify the cliques of H by visual inspection, or we can ask networkx for them. In the cell below, we find some cliques."
   ]
  },
  {
   "cell_type": "code",
   "execution_count": 4,
   "metadata": {},
   "outputs": [
    {
     "data": {
      "text/plain": [
       "[[1, 0, 2], [3, 0, 2], [3, 4, 5], [6, 8], [6, 4, 5, 7]]"
      ]
     },
     "execution_count": 4,
     "metadata": {},
     "output_type": "execute_result"
    }
   ],
   "source": [
    "cliques_generator = nx.find_cliques(H)\n",
    "list(cliques_generator)"
   ]
  },
  {
   "cell_type": "markdown",
   "metadata": {},
   "source": [
    "#### Notice that the cliques are overlapping, but each one is *maximal*. Why? Also, notice that there is exactly one *maximum* clique. This function computes all maximal cliques (see docs)."
   ]
  },
  {
   "cell_type": "code",
   "execution_count": 5,
   "metadata": {},
   "outputs": [
    {
     "name": "stdout",
     "output_type": "stream",
     "text": [
      "Help on function find_cliques in module networkx.algorithms.clique:\n",
      "\n",
      "find_cliques(G)\n",
      "    Returns all maximal cliques in an undirected graph.\n",
      "    \n",
      "    For each node *v*, a *maximal clique for v* is a largest complete\n",
      "    subgraph containing *v*. The largest maximal clique is sometimes\n",
      "    called the *maximum clique*.\n",
      "    \n",
      "    This function returns an iterator over cliques, each of which is a\n",
      "    list of nodes. It is an iterative implementation, so should not\n",
      "    suffer from recursion depth issues.\n",
      "    \n",
      "    Parameters\n",
      "    ----------\n",
      "    G : NetworkX graph\n",
      "        An undirected graph.\n",
      "    \n",
      "    Returns\n",
      "    -------\n",
      "    iterator\n",
      "        An iterator over maximal cliques, each of which is a list of\n",
      "        nodes in `G`. The order of cliques is arbitrary.\n",
      "    \n",
      "    See Also\n",
      "    --------\n",
      "    find_cliques_recursive\n",
      "        A recursive version of the same algorithm.\n",
      "    \n",
      "    Notes\n",
      "    -----\n",
      "    To obtain a list of all maximal cliques, use\n",
      "    `list(find_cliques(G))`. However, be aware that in the worst-case,\n",
      "    the length of this list can be exponential in the number of nodes in\n",
      "    the graph (for example, when the graph is the complete graph). This\n",
      "    function avoids storing all cliques in memory by only keeping\n",
      "    current candidate node lists in memory during its search.\n",
      "    \n",
      "    This implementation is based on the algorithm published by Bron and\n",
      "    Kerbosch (1973) [1]_, as adapted by Tomita, Tanaka and Takahashi\n",
      "    (2006) [2]_ and discussed in Cazals and Karande (2008) [3]_. It\n",
      "    essentially unrolls the recursion used in the references to avoid\n",
      "    issues of recursion stack depth (for a recursive implementation, see\n",
      "    :func:`find_cliques_recursive`).\n",
      "    \n",
      "    This algorithm ignores self-loops and parallel edges, since cliques\n",
      "    are not conventionally defined with such edges.\n",
      "    \n",
      "    References\n",
      "    ----------\n",
      "    .. [1] Bron, C. and Kerbosch, J.\n",
      "       \"Algorithm 457: finding all cliques of an undirected graph\".\n",
      "       *Communications of the ACM* 16, 9 (Sep. 1973), 575--577.\n",
      "       <http://portal.acm.org/citation.cfm?doid=362342.362367>\n",
      "    \n",
      "    .. [2] Etsuji Tomita, Akira Tanaka, Haruhisa Takahashi,\n",
      "       \"The worst-case time complexity for generating all maximal\n",
      "       cliques and computational experiments\",\n",
      "       *Theoretical Computer Science*, Volume 363, Issue 1,\n",
      "       Computing and Combinatorics,\n",
      "       10th Annual International Conference on\n",
      "       Computing and Combinatorics (COCOON 2004), 25 October 2006, Pages 28--42\n",
      "       <http://dx.doi.org/10.1016/j.tcs.2006.06.015>\n",
      "    \n",
      "    .. [3] F. Cazals, C. Karande,\n",
      "       \"A note on the problem of reporting maximal cliques\",\n",
      "       *Theoretical Computer Science*,\n",
      "       Volume 407, Issues 1--3, 6 November 2008, Pages 564--568,\n",
      "       <http://dx.doi.org/10.1016/j.tcs.2008.05.010>\n",
      "\n"
     ]
    }
   ],
   "source": [
    "help(nx.find_cliques)"
   ]
  },
  {
   "cell_type": "markdown",
   "metadata": {},
   "source": [
    "#### We can also ask for *all* of the cliques."
   ]
  },
  {
   "cell_type": "code",
   "execution_count": 6,
   "metadata": {},
   "outputs": [
    {
     "data": {
      "text/plain": [
       "[[0],\n",
       " [1],\n",
       " [2],\n",
       " [3],\n",
       " [4],\n",
       " [5],\n",
       " [6],\n",
       " [7],\n",
       " [8],\n",
       " [0, 1],\n",
       " [0, 2],\n",
       " [0, 3],\n",
       " [1, 2],\n",
       " [2, 3],\n",
       " [3, 4],\n",
       " [3, 5],\n",
       " [4, 5],\n",
       " [4, 6],\n",
       " [4, 7],\n",
       " [5, 6],\n",
       " [5, 7],\n",
       " [6, 7],\n",
       " [6, 8],\n",
       " [0, 1, 2],\n",
       " [0, 2, 3],\n",
       " [3, 4, 5],\n",
       " [4, 5, 6],\n",
       " [4, 5, 7],\n",
       " [4, 6, 7],\n",
       " [5, 6, 7],\n",
       " [4, 5, 6, 7]]"
      ]
     },
     "execution_count": 6,
     "metadata": {},
     "output_type": "execute_result"
    }
   ],
   "source": [
    "all_cliques = nx.enumerate_all_cliques(H)\n",
    "cliques_list = list(all_cliques)\n",
    "cliques_list"
   ]
  },
  {
   "cell_type": "markdown",
   "metadata": {},
   "source": [
    "#### There are many more of these! Some of them must fail the condition of maximality. Example?"
   ]
  },
  {
   "cell_type": "markdown",
   "metadata": {},
   "source": [
    "### $k$-Cliques"
   ]
  },
  {
   "cell_type": "markdown",
   "metadata": {},
   "source": [
    "#### We can select the size of cliques we want. For example, we can find all $k$-cliques for $k = 3$"
   ]
  },
  {
   "cell_type": "code",
   "execution_count": 7,
   "metadata": {
    "collapsed": true
   },
   "outputs": [],
   "source": [
    "k_clique_3 = [x for x in cliques_list if len(x) == 3]"
   ]
  },
  {
   "cell_type": "code",
   "execution_count": 21,
   "metadata": {},
   "outputs": [
    {
     "name": "stdout",
     "output_type": "stream",
     "text": [
      "[[0, 1, 2], [0, 2, 3], [3, 4, 5], [4, 5, 6], [4, 5, 7], [4, 6, 7], [5, 6, 7]]\n"
     ]
    }
   ],
   "source": [
    "print(k_clique_3)"
   ]
  },
  {
   "cell_type": "markdown",
   "metadata": {},
   "source": [
    "#### Can you find a function in networkx that already does this? Can you think of a better way?"
   ]
  },
  {
   "cell_type": "markdown",
   "metadata": {},
   "source": [
    "#### We want the $k$-clique communities. We are discovering structure in H and we must do some computation. Recall that we now think of cliques themselves being adjacent, then look at the resulting edges."
   ]
  },
  {
   "cell_type": "code",
   "execution_count": 8,
   "metadata": {},
   "outputs": [
    {
     "name": "stdout",
     "output_type": "stream",
     "text": [
      "Help on function k_clique_communities in module networkx.algorithms.community.kclique:\n",
      "\n",
      "k_clique_communities(G, k, cliques=None)\n",
      "    Find k-clique communities in graph using the percolation method.\n",
      "    \n",
      "    A k-clique community is the union of all cliques of size k that\n",
      "    can be reached through adjacent (sharing k-1 nodes) k-cliques.\n",
      "    \n",
      "    Parameters\n",
      "    ----------\n",
      "    G : NetworkX graph\n",
      "    \n",
      "    k : int\n",
      "       Size of smallest clique\n",
      "    \n",
      "    cliques: list or generator       \n",
      "       Precomputed cliques (use networkx.find_cliques(G))\n",
      "    \n",
      "    Returns\n",
      "    -------\n",
      "    Yields sets of nodes, one for each k-clique community.\n",
      "    \n",
      "    Examples\n",
      "    --------\n",
      "    >>> from networkx.algorithms.community import k_clique_communities\n",
      "    >>> G = nx.complete_graph(5)\n",
      "    >>> K5 = nx.convert_node_labels_to_integers(G,first_label=2)\n",
      "    >>> G.add_edges_from(K5.edges())\n",
      "    >>> c = list(k_clique_communities(G, 4))\n",
      "    >>> list(c[0])\n",
      "    [0, 1, 2, 3, 4, 5, 6]\n",
      "    >>> list(k_clique_communities(G, 6))\n",
      "    []\n",
      "    \n",
      "    References\n",
      "    ----------\n",
      "    .. [1] Gergely Palla, Imre Derényi, Illés Farkas1, and Tamás Vicsek,\n",
      "       Uncovering the overlapping community structure of complex networks \n",
      "       in nature and society Nature 435, 814-818, 2005,\n",
      "       doi:10.1038/nature03607\n",
      "\n"
     ]
    }
   ],
   "source": [
    "help(nx.community.k_clique_communities)"
   ]
  },
  {
   "cell_type": "code",
   "execution_count": 22,
   "metadata": {},
   "outputs": [
    {
     "data": {
      "text/plain": [
       "[frozenset({0, 1, 2, 3}), frozenset({3, 4, 5, 6, 7})]"
      ]
     },
     "execution_count": 22,
     "metadata": {},
     "output_type": "execute_result"
    }
   ],
   "source": [
    "k_comm_3 = list(nx.community.k_clique_communities(H,3))\n",
    "k_comm_3"
   ]
  },
  {
   "cell_type": "markdown",
   "metadata": {},
   "source": [
    "#### What is this \"frozenset\" business?"
   ]
  },
  {
   "cell_type": "markdown",
   "metadata": {},
   "source": [
    "### Clique Percolation"
   ]
  },
  {
   "cell_type": "markdown",
   "metadata": {},
   "source": [
    "#### The k_clique_communities function implements CPM. Let's try that and see what we get."
   ]
  },
  {
   "cell_type": "code",
   "execution_count": 12,
   "metadata": {
    "collapsed": true
   },
   "outputs": [],
   "source": [
    "# First, let's find the 'edges' in the new graph\n",
    "comm_edges = []\n",
    "K = len(k_clique_3)\n",
    "for u in range(K):\n",
    "    for v in range(u):\n",
    "        U = set(k_clique_3[u])\n",
    "        V = set(k_clique_3[v])\n",
    "        if len(U.intersection(V)) == 2:\n",
    "            comm_edges.append((u,v))"
   ]
  },
  {
   "cell_type": "code",
   "execution_count": 23,
   "metadata": {
    "collapsed": true
   },
   "outputs": [],
   "source": [
    "# Next, let's build a new graph\n",
    "HC = nx.Graph()\n",
    "# And give it nodes...\n",
    "HC.add_nodes_from(range(K))\n",
    "# And the edges we calculated...\n",
    "HC.add_edges_from(comm_edges)"
   ]
  },
  {
   "cell_type": "code",
   "execution_count": 24,
   "metadata": {
    "collapsed": true
   },
   "outputs": [],
   "source": [
    "# Finally, we use another networkx function to find the components.\n",
    "comps_generator = nx.components.connected_components(HC)"
   ]
  },
  {
   "cell_type": "code",
   "execution_count": 25,
   "metadata": {},
   "outputs": [
    {
     "data": {
      "text/plain": [
       "[{0, 1}, {2, 3, 4, 5, 6}]"
      ]
     },
     "execution_count": 25,
     "metadata": {},
     "output_type": "execute_result"
    }
   ],
   "source": [
    "list(comps_generator)"
   ]
  },
  {
   "cell_type": "markdown",
   "metadata": {},
   "source": [
    "#### Let's think carefully about this; these are *not* nodes from the original graph H! These are indices of elements of the list of $k$-cliques. Look at the first set in the above list."
   ]
  },
  {
   "cell_type": "code",
   "execution_count": 19,
   "metadata": {},
   "outputs": [
    {
     "data": {
      "text/plain": [
       "{0, 1, 2, 3}"
      ]
     },
     "execution_count": 19,
     "metadata": {},
     "output_type": "execute_result"
    }
   ],
   "source": [
    "x = [set(c) for c in k_clique_3[:2]]\n",
    "set.union(*x)"
   ]
  },
  {
   "cell_type": "markdown",
   "metadata": {},
   "source": [
    "#### The union of those nodes, from the original H, is in fact $\\{0,1,2,3\\}$, just as calculated by networkx. How about the other $k$-community?"
   ]
  },
  {
   "cell_type": "code",
   "execution_count": 26,
   "metadata": {},
   "outputs": [
    {
     "data": {
      "text/plain": [
       "{3, 4, 5, 6, 7}"
      ]
     },
     "execution_count": 26,
     "metadata": {},
     "output_type": "execute_result"
    }
   ],
   "source": [
    "x = [set(c) for c in k_clique_3[2:]]\n",
    "set.union(*x)"
   ]
  },
  {
   "cell_type": "markdown",
   "metadata": {},
   "source": [
    "#### Indeed, there are the other four nodes. Notice that the end-node $9$ is left out of both communities - not surprising."
   ]
  },
  {
   "cell_type": "markdown",
   "metadata": {},
   "source": [
    "#### This shows how to add labels to nodes in the appropriate positions."
   ]
  },
  {
   "cell_type": "code",
   "execution_count": 27,
   "metadata": {},
   "outputs": [
    {
     "data": {
      "text/html": [
       "\n",
       "    <div class=\"bk-root\">\n",
       "        <a href=\"https://bokeh.pydata.org\" target=\"_blank\" class=\"bk-logo bk-logo-small bk-logo-notebook\"></a>\n",
       "        <span id=\"df228734-02d1-4423-be23-875d89e1d467\">Loading BokehJS ...</span>\n",
       "    </div>"
      ]
     },
     "metadata": {},
     "output_type": "display_data"
    },
    {
     "data": {
      "application/javascript": [
       "\n",
       "(function(root) {\n",
       "  function now() {\n",
       "    return new Date();\n",
       "  }\n",
       "\n",
       "  var force = true;\n",
       "\n",
       "  if (typeof (root._bokeh_onload_callbacks) === \"undefined\" || force === true) {\n",
       "    root._bokeh_onload_callbacks = [];\n",
       "    root._bokeh_is_loading = undefined;\n",
       "  }\n",
       "\n",
       "  var JS_MIME_TYPE = 'application/javascript';\n",
       "  var HTML_MIME_TYPE = 'text/html';\n",
       "  var EXEC_MIME_TYPE = 'application/vnd.bokehjs_exec.v0+json';\n",
       "  var CLASS_NAME = 'output_bokeh rendered_html';\n",
       "\n",
       "  /**\n",
       "   * Render data to the DOM node\n",
       "   */\n",
       "  function render(props, node) {\n",
       "    var script = document.createElement(\"script\");\n",
       "    node.appendChild(script);\n",
       "  }\n",
       "\n",
       "  /**\n",
       "   * Handle when an output is cleared or removed\n",
       "   */\n",
       "  function handleClearOutput(event, handle) {\n",
       "    var cell = handle.cell;\n",
       "\n",
       "    var id = cell.output_area._bokeh_element_id;\n",
       "    var server_id = cell.output_area._bokeh_server_id;\n",
       "    // Clean up Bokeh references\n",
       "    if (id !== undefined) {\n",
       "      Bokeh.index[id].model.document.clear();\n",
       "      delete Bokeh.index[id];\n",
       "    }\n",
       "\n",
       "    if (server_id !== undefined) {\n",
       "      // Clean up Bokeh references\n",
       "      var cmd = \"from bokeh.io.state import curstate; print(curstate().uuid_to_server['\" + server_id + \"'].get_sessions()[0].document.roots[0]._id)\";\n",
       "      cell.notebook.kernel.execute(cmd, {\n",
       "        iopub: {\n",
       "          output: function(msg) {\n",
       "            var element_id = msg.content.text.trim();\n",
       "            Bokeh.index[element_id].model.document.clear();\n",
       "            delete Bokeh.index[element_id];\n",
       "          }\n",
       "        }\n",
       "      });\n",
       "      // Destroy server and session\n",
       "      var cmd = \"import bokeh.io.notebook as ion; ion.destroy_server('\" + server_id + \"')\";\n",
       "      cell.notebook.kernel.execute(cmd);\n",
       "    }\n",
       "  }\n",
       "\n",
       "  /**\n",
       "   * Handle when a new output is added\n",
       "   */\n",
       "  function handleAddOutput(event, handle) {\n",
       "    var output_area = handle.output_area;\n",
       "    var output = handle.output;\n",
       "\n",
       "    // limit handleAddOutput to display_data with EXEC_MIME_TYPE content only\n",
       "    if ((output.output_type != \"display_data\") || (!output.data.hasOwnProperty(EXEC_MIME_TYPE))) {\n",
       "      return\n",
       "    }\n",
       "\n",
       "    var toinsert = output_area.element.find(`.${CLASS_NAME.split(' ')[0]}`);\n",
       "\n",
       "    if (output.metadata[EXEC_MIME_TYPE][\"id\"] !== undefined) {\n",
       "      toinsert[0].firstChild.textContent = output.data[JS_MIME_TYPE];\n",
       "      // store reference to embed id on output_area\n",
       "      output_area._bokeh_element_id = output.metadata[EXEC_MIME_TYPE][\"id\"];\n",
       "    }\n",
       "    if (output.metadata[EXEC_MIME_TYPE][\"server_id\"] !== undefined) {\n",
       "      var bk_div = document.createElement(\"div\");\n",
       "      bk_div.innerHTML = output.data[HTML_MIME_TYPE];\n",
       "      var script_attrs = bk_div.children[0].attributes;\n",
       "      for (var i = 0; i < script_attrs.length; i++) {\n",
       "        toinsert[0].firstChild.setAttribute(script_attrs[i].name, script_attrs[i].value);\n",
       "      }\n",
       "      // store reference to server id on output_area\n",
       "      output_area._bokeh_server_id = output.metadata[EXEC_MIME_TYPE][\"server_id\"];\n",
       "    }\n",
       "  }\n",
       "\n",
       "  function register_renderer(events, OutputArea) {\n",
       "\n",
       "    function append_mime(data, metadata, element) {\n",
       "      // create a DOM node to render to\n",
       "      var toinsert = this.create_output_subarea(\n",
       "        metadata,\n",
       "        CLASS_NAME,\n",
       "        EXEC_MIME_TYPE\n",
       "      );\n",
       "      this.keyboard_manager.register_events(toinsert);\n",
       "      // Render to node\n",
       "      var props = {data: data, metadata: metadata[EXEC_MIME_TYPE]};\n",
       "      render(props, toinsert[0]);\n",
       "      element.append(toinsert);\n",
       "      return toinsert\n",
       "    }\n",
       "\n",
       "    /* Handle when an output is cleared or removed */\n",
       "    events.on('clear_output.CodeCell', handleClearOutput);\n",
       "    events.on('delete.Cell', handleClearOutput);\n",
       "\n",
       "    /* Handle when a new output is added */\n",
       "    events.on('output_added.OutputArea', handleAddOutput);\n",
       "\n",
       "    /**\n",
       "     * Register the mime type and append_mime function with output_area\n",
       "     */\n",
       "    OutputArea.prototype.register_mime_type(EXEC_MIME_TYPE, append_mime, {\n",
       "      /* Is output safe? */\n",
       "      safe: true,\n",
       "      /* Index of renderer in `output_area.display_order` */\n",
       "      index: 0\n",
       "    });\n",
       "  }\n",
       "\n",
       "  // register the mime type if in Jupyter Notebook environment and previously unregistered\n",
       "  if (root.Jupyter !== undefined) {\n",
       "    var events = require('base/js/events');\n",
       "    var OutputArea = require('notebook/js/outputarea').OutputArea;\n",
       "\n",
       "    if (OutputArea.prototype.mime_types().indexOf(EXEC_MIME_TYPE) == -1) {\n",
       "      register_renderer(events, OutputArea);\n",
       "    }\n",
       "  }\n",
       "\n",
       "  \n",
       "  if (typeof (root._bokeh_timeout) === \"undefined\" || force === true) {\n",
       "    root._bokeh_timeout = Date.now() + 5000;\n",
       "    root._bokeh_failed_load = false;\n",
       "  }\n",
       "\n",
       "  var NB_LOAD_WARNING = {'data': {'text/html':\n",
       "     \"<div style='background-color: #fdd'>\\n\"+\n",
       "     \"<p>\\n\"+\n",
       "     \"BokehJS does not appear to have successfully loaded. If loading BokehJS from CDN, this \\n\"+\n",
       "     \"may be due to a slow or bad network connection. Possible fixes:\\n\"+\n",
       "     \"</p>\\n\"+\n",
       "     \"<ul>\\n\"+\n",
       "     \"<li>re-rerun `output_notebook()` to attempt to load from CDN again, or</li>\\n\"+\n",
       "     \"<li>use INLINE resources instead, as so:</li>\\n\"+\n",
       "     \"</ul>\\n\"+\n",
       "     \"<code>\\n\"+\n",
       "     \"from bokeh.resources import INLINE\\n\"+\n",
       "     \"output_notebook(resources=INLINE)\\n\"+\n",
       "     \"</code>\\n\"+\n",
       "     \"</div>\"}};\n",
       "\n",
       "  function display_loaded() {\n",
       "    var el = document.getElementById(\"df228734-02d1-4423-be23-875d89e1d467\");\n",
       "    if (el != null) {\n",
       "      el.textContent = \"BokehJS is loading...\";\n",
       "    }\n",
       "    if (root.Bokeh !== undefined) {\n",
       "      if (el != null) {\n",
       "        el.textContent = \"BokehJS \" + root.Bokeh.version + \" successfully loaded.\";\n",
       "      }\n",
       "    } else if (Date.now() < root._bokeh_timeout) {\n",
       "      setTimeout(display_loaded, 100)\n",
       "    }\n",
       "  }\n",
       "\n",
       "\n",
       "  function run_callbacks() {\n",
       "    try {\n",
       "      root._bokeh_onload_callbacks.forEach(function(callback) { callback() });\n",
       "    }\n",
       "    finally {\n",
       "      delete root._bokeh_onload_callbacks\n",
       "    }\n",
       "    console.info(\"Bokeh: all callbacks have finished\");\n",
       "  }\n",
       "\n",
       "  function load_libs(js_urls, callback) {\n",
       "    root._bokeh_onload_callbacks.push(callback);\n",
       "    if (root._bokeh_is_loading > 0) {\n",
       "      console.log(\"Bokeh: BokehJS is being loaded, scheduling callback at\", now());\n",
       "      return null;\n",
       "    }\n",
       "    if (js_urls == null || js_urls.length === 0) {\n",
       "      run_callbacks();\n",
       "      return null;\n",
       "    }\n",
       "    console.log(\"Bokeh: BokehJS not loaded, scheduling load and callback at\", now());\n",
       "    root._bokeh_is_loading = js_urls.length;\n",
       "    for (var i = 0; i < js_urls.length; i++) {\n",
       "      var url = js_urls[i];\n",
       "      var s = document.createElement('script');\n",
       "      s.src = url;\n",
       "      s.async = false;\n",
       "      s.onreadystatechange = s.onload = function() {\n",
       "        root._bokeh_is_loading--;\n",
       "        if (root._bokeh_is_loading === 0) {\n",
       "          console.log(\"Bokeh: all BokehJS libraries loaded\");\n",
       "          run_callbacks()\n",
       "        }\n",
       "      };\n",
       "      s.onerror = function() {\n",
       "        console.warn(\"failed to load library \" + url);\n",
       "      };\n",
       "      console.log(\"Bokeh: injecting script tag for BokehJS library: \", url);\n",
       "      document.getElementsByTagName(\"head\")[0].appendChild(s);\n",
       "    }\n",
       "  };var element = document.getElementById(\"df228734-02d1-4423-be23-875d89e1d467\");\n",
       "  if (element == null) {\n",
       "    console.log(\"Bokeh: ERROR: autoload.js configured with elementid 'df228734-02d1-4423-be23-875d89e1d467' but no matching script tag was found. \")\n",
       "    return false;\n",
       "  }\n",
       "\n",
       "  var js_urls = [\"https://cdn.pydata.org/bokeh/release/bokeh-0.12.10.min.js\", \"https://cdn.pydata.org/bokeh/release/bokeh-widgets-0.12.10.min.js\", \"https://cdn.pydata.org/bokeh/release/bokeh-tables-0.12.10.min.js\", \"https://cdn.pydata.org/bokeh/release/bokeh-gl-0.12.10.min.js\"];\n",
       "\n",
       "  var inline_js = [\n",
       "    function(Bokeh) {\n",
       "      Bokeh.set_log_level(\"info\");\n",
       "    },\n",
       "    \n",
       "    function(Bokeh) {\n",
       "      \n",
       "    },\n",
       "    function(Bokeh) {\n",
       "      console.log(\"Bokeh: injecting CSS: https://cdn.pydata.org/bokeh/release/bokeh-0.12.10.min.css\");\n",
       "      Bokeh.embed.inject_css(\"https://cdn.pydata.org/bokeh/release/bokeh-0.12.10.min.css\");\n",
       "      console.log(\"Bokeh: injecting CSS: https://cdn.pydata.org/bokeh/release/bokeh-widgets-0.12.10.min.css\");\n",
       "      Bokeh.embed.inject_css(\"https://cdn.pydata.org/bokeh/release/bokeh-widgets-0.12.10.min.css\");\n",
       "      console.log(\"Bokeh: injecting CSS: https://cdn.pydata.org/bokeh/release/bokeh-tables-0.12.10.min.css\");\n",
       "      Bokeh.embed.inject_css(\"https://cdn.pydata.org/bokeh/release/bokeh-tables-0.12.10.min.css\");\n",
       "    }\n",
       "  ];\n",
       "\n",
       "  function run_inline_js() {\n",
       "    \n",
       "    if ((root.Bokeh !== undefined) || (force === true)) {\n",
       "      for (var i = 0; i < inline_js.length; i++) {\n",
       "        inline_js[i].call(root, root.Bokeh);\n",
       "      }if (force === true) {\n",
       "        display_loaded();\n",
       "      }} else if (Date.now() < root._bokeh_timeout) {\n",
       "      setTimeout(run_inline_js, 100);\n",
       "    } else if (!root._bokeh_failed_load) {\n",
       "      console.log(\"Bokeh: BokehJS failed to load within specified timeout.\");\n",
       "      root._bokeh_failed_load = true;\n",
       "    } else if (force !== true) {\n",
       "      var cell = $(document.getElementById(\"df228734-02d1-4423-be23-875d89e1d467\")).parents('.cell').data().cell;\n",
       "      cell.output_area.append_execute_result(NB_LOAD_WARNING)\n",
       "    }\n",
       "\n",
       "  }\n",
       "\n",
       "  if (root._bokeh_is_loading === 0) {\n",
       "    console.log(\"Bokeh: BokehJS loaded, going straight to plotting\");\n",
       "    run_inline_js();\n",
       "  } else {\n",
       "    load_libs(js_urls, function() {\n",
       "      console.log(\"Bokeh: BokehJS plotting callback run at\", now());\n",
       "      run_inline_js();\n",
       "    });\n",
       "  }\n",
       "}(window));"
      ],
      "application/vnd.bokehjs_load.v0+json": "\n(function(root) {\n  function now() {\n    return new Date();\n  }\n\n  var force = true;\n\n  if (typeof (root._bokeh_onload_callbacks) === \"undefined\" || force === true) {\n    root._bokeh_onload_callbacks = [];\n    root._bokeh_is_loading = undefined;\n  }\n\n  \n\n  \n  if (typeof (root._bokeh_timeout) === \"undefined\" || force === true) {\n    root._bokeh_timeout = Date.now() + 5000;\n    root._bokeh_failed_load = false;\n  }\n\n  var NB_LOAD_WARNING = {'data': {'text/html':\n     \"<div style='background-color: #fdd'>\\n\"+\n     \"<p>\\n\"+\n     \"BokehJS does not appear to have successfully loaded. If loading BokehJS from CDN, this \\n\"+\n     \"may be due to a slow or bad network connection. Possible fixes:\\n\"+\n     \"</p>\\n\"+\n     \"<ul>\\n\"+\n     \"<li>re-rerun `output_notebook()` to attempt to load from CDN again, or</li>\\n\"+\n     \"<li>use INLINE resources instead, as so:</li>\\n\"+\n     \"</ul>\\n\"+\n     \"<code>\\n\"+\n     \"from bokeh.resources import INLINE\\n\"+\n     \"output_notebook(resources=INLINE)\\n\"+\n     \"</code>\\n\"+\n     \"</div>\"}};\n\n  function display_loaded() {\n    var el = document.getElementById(\"df228734-02d1-4423-be23-875d89e1d467\");\n    if (el != null) {\n      el.textContent = \"BokehJS is loading...\";\n    }\n    if (root.Bokeh !== undefined) {\n      if (el != null) {\n        el.textContent = \"BokehJS \" + root.Bokeh.version + \" successfully loaded.\";\n      }\n    } else if (Date.now() < root._bokeh_timeout) {\n      setTimeout(display_loaded, 100)\n    }\n  }\n\n\n  function run_callbacks() {\n    try {\n      root._bokeh_onload_callbacks.forEach(function(callback) { callback() });\n    }\n    finally {\n      delete root._bokeh_onload_callbacks\n    }\n    console.info(\"Bokeh: all callbacks have finished\");\n  }\n\n  function load_libs(js_urls, callback) {\n    root._bokeh_onload_callbacks.push(callback);\n    if (root._bokeh_is_loading > 0) {\n      console.log(\"Bokeh: BokehJS is being loaded, scheduling callback at\", now());\n      return null;\n    }\n    if (js_urls == null || js_urls.length === 0) {\n      run_callbacks();\n      return null;\n    }\n    console.log(\"Bokeh: BokehJS not loaded, scheduling load and callback at\", now());\n    root._bokeh_is_loading = js_urls.length;\n    for (var i = 0; i < js_urls.length; i++) {\n      var url = js_urls[i];\n      var s = document.createElement('script');\n      s.src = url;\n      s.async = false;\n      s.onreadystatechange = s.onload = function() {\n        root._bokeh_is_loading--;\n        if (root._bokeh_is_loading === 0) {\n          console.log(\"Bokeh: all BokehJS libraries loaded\");\n          run_callbacks()\n        }\n      };\n      s.onerror = function() {\n        console.warn(\"failed to load library \" + url);\n      };\n      console.log(\"Bokeh: injecting script tag for BokehJS library: \", url);\n      document.getElementsByTagName(\"head\")[0].appendChild(s);\n    }\n  };var element = document.getElementById(\"df228734-02d1-4423-be23-875d89e1d467\");\n  if (element == null) {\n    console.log(\"Bokeh: ERROR: autoload.js configured with elementid 'df228734-02d1-4423-be23-875d89e1d467' but no matching script tag was found. \")\n    return false;\n  }\n\n  var js_urls = [\"https://cdn.pydata.org/bokeh/release/bokeh-0.12.10.min.js\", \"https://cdn.pydata.org/bokeh/release/bokeh-widgets-0.12.10.min.js\", \"https://cdn.pydata.org/bokeh/release/bokeh-tables-0.12.10.min.js\", \"https://cdn.pydata.org/bokeh/release/bokeh-gl-0.12.10.min.js\"];\n\n  var inline_js = [\n    function(Bokeh) {\n      Bokeh.set_log_level(\"info\");\n    },\n    \n    function(Bokeh) {\n      \n    },\n    function(Bokeh) {\n      console.log(\"Bokeh: injecting CSS: https://cdn.pydata.org/bokeh/release/bokeh-0.12.10.min.css\");\n      Bokeh.embed.inject_css(\"https://cdn.pydata.org/bokeh/release/bokeh-0.12.10.min.css\");\n      console.log(\"Bokeh: injecting CSS: https://cdn.pydata.org/bokeh/release/bokeh-widgets-0.12.10.min.css\");\n      Bokeh.embed.inject_css(\"https://cdn.pydata.org/bokeh/release/bokeh-widgets-0.12.10.min.css\");\n      console.log(\"Bokeh: injecting CSS: https://cdn.pydata.org/bokeh/release/bokeh-tables-0.12.10.min.css\");\n      Bokeh.embed.inject_css(\"https://cdn.pydata.org/bokeh/release/bokeh-tables-0.12.10.min.css\");\n    }\n  ];\n\n  function run_inline_js() {\n    \n    if ((root.Bokeh !== undefined) || (force === true)) {\n      for (var i = 0; i < inline_js.length; i++) {\n        inline_js[i].call(root, root.Bokeh);\n      }if (force === true) {\n        display_loaded();\n      }} else if (Date.now() < root._bokeh_timeout) {\n      setTimeout(run_inline_js, 100);\n    } else if (!root._bokeh_failed_load) {\n      console.log(\"Bokeh: BokehJS failed to load within specified timeout.\");\n      root._bokeh_failed_load = true;\n    } else if (force !== true) {\n      var cell = $(document.getElementById(\"df228734-02d1-4423-be23-875d89e1d467\")).parents('.cell').data().cell;\n      cell.output_area.append_execute_result(NB_LOAD_WARNING)\n    }\n\n  }\n\n  if (root._bokeh_is_loading === 0) {\n    console.log(\"Bokeh: BokehJS loaded, going straight to plotting\");\n    run_inline_js();\n  } else {\n    load_libs(js_urls, function() {\n      console.log(\"Bokeh: BokehJS plotting callback run at\", now());\n      run_inline_js();\n    });\n  }\n}(window));"
     },
     "metadata": {},
     "output_type": "display_data"
    },
    {
     "data": {
      "text/html": [
       "\n",
       "<div class=\"bk-root\">\n",
       "    <div class=\"bk-plotdiv\" id=\"bd8576e9-710f-40e6-b093-cc1d3602b90b\"></div>\n",
       "</div>"
      ]
     },
     "metadata": {},
     "output_type": "display_data"
    },
    {
     "data": {
      "application/javascript": [
       "(function(root) {\n",
       "  function embed_document(root) {\n",
       "    var docs_json = {\"13201e44-7732-465c-b8f5-aad7d4b49e30\":{\"roots\":{\"references\":[{\"attributes\":{\"below\":[{\"id\":\"f52cefea-f2af-4074-98d1-d206d2ddfe97\",\"type\":\"LinearAxis\"}],\"left\":[{\"id\":\"907b29c8-f802-4612-8673-40ff5d65e01f\",\"type\":\"LinearAxis\"}],\"renderers\":[{\"id\":\"f52cefea-f2af-4074-98d1-d206d2ddfe97\",\"type\":\"LinearAxis\"},{\"id\":\"e24d25e5-5c37-44c6-9290-259c1daebac7\",\"type\":\"Grid\"},{\"id\":\"907b29c8-f802-4612-8673-40ff5d65e01f\",\"type\":\"LinearAxis\"},{\"id\":\"705353c9-6b0c-41c1-a6bd-9a55c42507a4\",\"type\":\"Grid\"},{\"id\":\"6a445eba-51c2-4c35-9ae1-317f75c31638\",\"type\":\"GraphRenderer\"},{\"id\":\"267a41f1-67c0-4d06-a11c-9181c07dd5a8\",\"type\":\"LabelSet\"}],\"title\":{\"id\":\"5229492f-5298-4a1e-8961-3a3e1d7a155a\",\"type\":\"Title\"},\"toolbar\":{\"id\":\"12b46b7b-eafc-48f2-9901-2aea196da665\",\"type\":\"Toolbar\"},\"toolbar_location\":null,\"x_range\":{\"id\":\"2e6b3c96-437c-449e-9a21-6ffd74d1cf08\",\"type\":\"Range1d\"},\"x_scale\":{\"id\":\"0ec012bc-45d7-431c-80a0-e71e04463189\",\"type\":\"LinearScale\"},\"y_range\":{\"id\":\"0d42ffcb-79df-4ac3-a6e8-d4e8c6c81d78\",\"type\":\"Range1d\"},\"y_scale\":{\"id\":\"e391824e-5eac-4bff-ab2b-c8786fc5c700\",\"type\":\"LinearScale\"}},\"id\":\"3ea02d4f-18b5-407b-ae38-f8cba7f99504\",\"subtype\":\"Figure\",\"type\":\"Plot\"},{\"attributes\":{\"graph_layout\":{\"0\":[-0.11709392989989857,-1.3942312602767828],\"1\":[-0.4980194369443048,-2.0],\"2\":[-0.5813821492754231,-1.288308140758546],\"3\":[-0.14735995414203068,-0.4667222333661969],\"4\":[-0.1377004860481196,0.49167609232324033],\"5\":[0.2629063388604038,0.43048940040366307],\"6\":[0.43139749412647366,1.191901982378164],\"7\":[-0.11171843270250198,1.070557280443665],\"8\":[0.8989705560254014,1.9646368788527933]}},\"id\":\"82a0d2a7-b097-48aa-a5ef-df916cd122ac\",\"type\":\"StaticLayoutProvider\"},{\"attributes\":{\"plot\":null,\"source\":{\"id\":\"d565ccd0-4253-4385-a702-307abd1670f7\",\"type\":\"ColumnDataSource\"},\"text\":{\"field\":\"kid\"},\"x\":{\"field\":\"x\"},\"y\":{\"field\":\"y\"}},\"id\":\"267a41f1-67c0-4d06-a11c-9181c07dd5a8\",\"type\":\"LabelSet\"},{\"attributes\":{},\"id\":\"e391824e-5eac-4bff-ab2b-c8786fc5c700\",\"type\":\"LinearScale\"},{\"attributes\":{\"callback\":null,\"column_names\":[\"start\",\"end\"],\"data\":{\"end\":[1,2,3,2,3,4,5,5,6,7,6,7,7,8],\"start\":[0,0,0,1,2,3,3,4,4,4,5,5,6,6]}},\"id\":\"1cb72f21-b3c0-42ea-905d-50284dd9ce00\",\"type\":\"ColumnDataSource\"},{\"attributes\":{\"source\":{\"id\":\"1cb72f21-b3c0-42ea-905d-50284dd9ce00\",\"type\":\"ColumnDataSource\"}},\"id\":\"a6f6ca10-d038-4ca4-94f8-83b256eb4c5e\",\"type\":\"CDSView\"},{\"attributes\":{\"plot\":null,\"text\":\"Networkx Integration Demonstration\"},\"id\":\"5229492f-5298-4a1e-8961-3a3e1d7a155a\",\"type\":\"Title\"},{\"attributes\":{},\"id\":\"aaa968d3-fef1-48bb-902d-dd643b978a7d\",\"type\":\"BasicTickFormatter\"},{\"attributes\":{\"callback\":null,\"end\":3,\"start\":-3},\"id\":\"2e6b3c96-437c-449e-9a21-6ffd74d1cf08\",\"type\":\"Range1d\"},{\"attributes\":{\"data_source\":{\"id\":\"1cb72f21-b3c0-42ea-905d-50284dd9ce00\",\"type\":\"ColumnDataSource\"},\"glyph\":{\"id\":\"de6d8fd0-896e-4b3f-a12e-d0aa5af65b67\",\"type\":\"MultiLine\"},\"hover_glyph\":null,\"muted_glyph\":null,\"view\":{\"id\":\"a6f6ca10-d038-4ca4-94f8-83b256eb4c5e\",\"type\":\"CDSView\"}},\"id\":\"ee0e82ba-76d6-4588-9620-315d30b12872\",\"type\":\"GlyphRenderer\"},{\"attributes\":{},\"id\":\"0ec012bc-45d7-431c-80a0-e71e04463189\",\"type\":\"LinearScale\"},{\"attributes\":{},\"id\":\"18bbcaa9-ea6c-43e8-8850-c6b7d569e7db\",\"type\":\"BasicTickFormatter\"},{\"attributes\":{},\"id\":\"e492fbcd-68e2-4e8f-8680-0fce02da63b2\",\"type\":\"Circle\"},{\"attributes\":{\"source\":{\"id\":\"12b04472-7d0f-4c89-98f5-e9a8f87bf384\",\"type\":\"ColumnDataSource\"}},\"id\":\"c94a296c-75ad-4ecb-874e-c2d2f7c00c68\",\"type\":\"CDSView\"},{\"attributes\":{\"formatter\":{\"id\":\"18bbcaa9-ea6c-43e8-8850-c6b7d569e7db\",\"type\":\"BasicTickFormatter\"},\"plot\":{\"id\":\"3ea02d4f-18b5-407b-ae38-f8cba7f99504\",\"subtype\":\"Figure\",\"type\":\"Plot\"},\"ticker\":{\"id\":\"164420fc-d9e5-4507-a768-11c63ee7ac68\",\"type\":\"BasicTicker\"}},\"id\":\"f52cefea-f2af-4074-98d1-d206d2ddfe97\",\"type\":\"LinearAxis\"},{\"attributes\":{\"active_drag\":\"auto\",\"active_inspect\":\"auto\",\"active_scroll\":\"auto\",\"active_tap\":\"auto\"},\"id\":\"12b46b7b-eafc-48f2-9901-2aea196da665\",\"type\":\"Toolbar\"},{\"attributes\":{\"formatter\":{\"id\":\"aaa968d3-fef1-48bb-902d-dd643b978a7d\",\"type\":\"BasicTickFormatter\"},\"plot\":{\"id\":\"3ea02d4f-18b5-407b-ae38-f8cba7f99504\",\"subtype\":\"Figure\",\"type\":\"Plot\"},\"ticker\":{\"id\":\"3414c685-63cb-40d2-85eb-c2829e5f2490\",\"type\":\"BasicTicker\"}},\"id\":\"907b29c8-f802-4612-8673-40ff5d65e01f\",\"type\":\"LinearAxis\"},{\"attributes\":{\"data_source\":{\"id\":\"12b04472-7d0f-4c89-98f5-e9a8f87bf384\",\"type\":\"ColumnDataSource\"},\"glyph\":{\"id\":\"e492fbcd-68e2-4e8f-8680-0fce02da63b2\",\"type\":\"Circle\"},\"hover_glyph\":null,\"muted_glyph\":null,\"view\":{\"id\":\"c94a296c-75ad-4ecb-874e-c2d2f7c00c68\",\"type\":\"CDSView\"}},\"id\":\"8f8928c0-2cd8-4191-aace-ded234eaf950\",\"type\":\"GlyphRenderer\"},{\"attributes\":{\"callback\":null,\"column_names\":[\"x\",\"y\",\"kid\"],\"data\":{\"kid\":[\"V0\",\"V1\",\"V2\",\"V3\",\"V4\",\"V5\",\"V6\",\"V7\",\"V8\"],\"x\":[-0.11709392989989857,-0.4980194369443048,-0.5813821492754231,-0.14735995414203068,-0.1377004860481196,0.2629063388604038,0.43139749412647366,-0.11171843270250198,0.8989705560254014],\"y\":[-1.3942312602767828,-2.0,-1.288308140758546,-0.4667222333661969,0.49167609232324033,0.43048940040366307,1.191901982378164,1.070557280443665,1.9646368788527933]}},\"id\":\"d565ccd0-4253-4385-a702-307abd1670f7\",\"type\":\"ColumnDataSource\"},{\"attributes\":{\"callback\":null,\"column_names\":[\"index\"],\"data\":{\"index\":[0,1,2,3,4,5,6,7,8]}},\"id\":\"12b04472-7d0f-4c89-98f5-e9a8f87bf384\",\"type\":\"ColumnDataSource\"},{\"attributes\":{},\"id\":\"164420fc-d9e5-4507-a768-11c63ee7ac68\",\"type\":\"BasicTicker\"},{\"attributes\":{\"callback\":null,\"end\":3,\"start\":-3},\"id\":\"0d42ffcb-79df-4ac3-a6e8-d4e8c6c81d78\",\"type\":\"Range1d\"},{\"attributes\":{},\"id\":\"de6d8fd0-896e-4b3f-a12e-d0aa5af65b67\",\"type\":\"MultiLine\"},{\"attributes\":{},\"id\":\"3414c685-63cb-40d2-85eb-c2829e5f2490\",\"type\":\"BasicTicker\"},{\"attributes\":{\"dimension\":1,\"plot\":{\"id\":\"3ea02d4f-18b5-407b-ae38-f8cba7f99504\",\"subtype\":\"Figure\",\"type\":\"Plot\"},\"ticker\":{\"id\":\"3414c685-63cb-40d2-85eb-c2829e5f2490\",\"type\":\"BasicTicker\"}},\"id\":\"705353c9-6b0c-41c1-a6bd-9a55c42507a4\",\"type\":\"Grid\"},{\"attributes\":{},\"id\":\"7099ca33-c3aa-41c7-bc6d-91a8635d70d5\",\"type\":\"NodesOnly\"},{\"attributes\":{\"edge_renderer\":{\"id\":\"ee0e82ba-76d6-4588-9620-315d30b12872\",\"type\":\"GlyphRenderer\"},\"inspection_policy\":{\"id\":\"7099ca33-c3aa-41c7-bc6d-91a8635d70d5\",\"type\":\"NodesOnly\"},\"layout_provider\":{\"id\":\"82a0d2a7-b097-48aa-a5ef-df916cd122ac\",\"type\":\"StaticLayoutProvider\"},\"node_renderer\":{\"id\":\"8f8928c0-2cd8-4191-aace-ded234eaf950\",\"type\":\"GlyphRenderer\"},\"selection_policy\":{\"id\":\"3d48810a-4d74-4130-a9ec-afaafeaa5263\",\"type\":\"NodesOnly\"}},\"id\":\"6a445eba-51c2-4c35-9ae1-317f75c31638\",\"type\":\"GraphRenderer\"},{\"attributes\":{\"plot\":{\"id\":\"3ea02d4f-18b5-407b-ae38-f8cba7f99504\",\"subtype\":\"Figure\",\"type\":\"Plot\"},\"ticker\":{\"id\":\"164420fc-d9e5-4507-a768-11c63ee7ac68\",\"type\":\"BasicTicker\"}},\"id\":\"e24d25e5-5c37-44c6-9290-259c1daebac7\",\"type\":\"Grid\"},{\"attributes\":{},\"id\":\"3d48810a-4d74-4130-a9ec-afaafeaa5263\",\"type\":\"NodesOnly\"}],\"root_ids\":[\"3ea02d4f-18b5-407b-ae38-f8cba7f99504\"]},\"title\":\"Bokeh Application\",\"version\":\"0.12.10\"}};\n",
       "    var render_items = [{\"docid\":\"13201e44-7732-465c-b8f5-aad7d4b49e30\",\"elementid\":\"bd8576e9-710f-40e6-b093-cc1d3602b90b\",\"modelid\":\"3ea02d4f-18b5-407b-ae38-f8cba7f99504\"}];\n",
       "\n",
       "    root.Bokeh.embed.embed_items(docs_json, render_items);\n",
       "  }\n",
       "\n",
       "  if (root.Bokeh !== undefined) {\n",
       "    embed_document(root);\n",
       "  } else {\n",
       "    var attempts = 0;\n",
       "    var timer = setInterval(function(root) {\n",
       "      if (root.Bokeh !== undefined) {\n",
       "        embed_document(root);\n",
       "        clearInterval(timer);\n",
       "      }\n",
       "      attempts++;\n",
       "      if (attempts > 100) {\n",
       "        console.log(\"Bokeh: ERROR: Unable to embed document because BokehJS library is missing\")\n",
       "        clearInterval(timer);\n",
       "      }\n",
       "    }, 10, root)\n",
       "  }\n",
       "})(window);"
      ],
      "application/vnd.bokehjs_exec.v0+json": ""
     },
     "metadata": {
      "application/vnd.bokehjs_exec.v0+json": {
       "id": "3ea02d4f-18b5-407b-ae38-f8cba7f99504"
      }
     },
     "output_type": "display_data"
    }
   ],
   "source": [
    "# The positions must be gotten from the bokeh object \"graph\"\n",
    "output_notebook()\n",
    "\n",
    "plot = figure(title=\"Networkx Integration Demonstration\", x_range=(-3,3), y_range=(-3,3),\n",
    "              tools=\"\", toolbar_location=None)\n",
    "\n",
    "graph = from_networkx(H, nx.spring_layout, scale=2, center=(0,0))\n",
    "plot.renderers.append(graph)\n",
    "\n",
    "\n",
    "pos = graph.layout_provider.graph_layout\n",
    "x,y=zip(*pos.values())\n",
    "\n",
    "source = ColumnDataSource({'x':x,'y':y,'kid':['V%d' %ix for ix in range(len(x))]})\n",
    "labels = LabelSet(x='x', y='y', text='kid', source=source)\n",
    "\n",
    "plot.renderers.append(labels)\n",
    "\n",
    "\n",
    "show(plot)"
   ]
  }
 ],
 "metadata": {
  "kernelspec": {
   "display_name": "Python 3",
   "language": "python",
   "name": "python3"
  },
  "language_info": {
   "codemirror_mode": {
    "name": "ipython",
    "version": 3
   },
   "file_extension": ".py",
   "mimetype": "text/x-python",
   "name": "python",
   "nbconvert_exporter": "python",
   "pygments_lexer": "ipython3",
   "version": "3.6.3"
  }
 },
 "nbformat": 4,
 "nbformat_minor": 2
}
